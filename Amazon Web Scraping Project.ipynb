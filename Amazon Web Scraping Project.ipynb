{
 "cells": [
  {
   "cell_type": "code",
   "execution_count": 17,
   "id": "c5216c87",
   "metadata": {},
   "outputs": [],
   "source": [
    "#import libraries\n",
    "from bs4 import BeautifulSoup\n",
    "import requests\n",
    "import smtplib\n",
    "import time\n",
    "import datetime\n",
    "import pandas as pd\n",
    "import csv"
   ]
  },
  {
   "cell_type": "code",
   "execution_count": 27,
   "id": "8e4f95b9",
   "metadata": {},
   "outputs": [
    {
     "name": "stdout",
     "output_type": "stream",
     "text": [
      "\n",
      "             Retreez Funny Mug - Data Makes Me Happy Data Science Scientist Analyst Computer Accounting 11 Oz Ceramic Coffee Mugs - Funny Sarcasm Inspirational birthday gifts for friend coworker colleague him her\n",
      "            \n",
      "\n",
      "               EGP 150.00\n",
      "              \n"
     ]
    }
   ],
   "source": [
    "#connect website and pull data\n",
    "\n",
    "URL = 'https://www.amazon.eg/-/en/Retreez-Funny-Mug-Accounting-Inspirational/dp/B0BHCNBD76/ref=sr_1_5?crid=LYBAIX7YUTXJ&dib=eyJ2IjoiMSJ9.QFJSTEaLMPF3YwwMy6v6IMFVhYFn6dFv9dahn6uOb80reJbxa5IBAUVO6xjTePT9P63zT6mqbQkriFvyRIRRVTbKblFJG8Kcr7rGQAGgFxwPSJwFuu5PTkOb3ALrh2rLoiVkfyDypOHw_6B-Lq_SgBHEr9jYZSWd__dZxM8_x_NP57L1lTCprhGp-HhNl09p.uIv91uAMNwN3kGqU1VqlEZolIwFc4M0QYTJNFe3d4YM&dib_tag=se&keywords=data+analyst&qid=1714974212&sprefix=data+analys%2Caps%2C106&sr=8-5'\n",
    "\n",
    "headers = {\"User-Agent\": \"Mozilla/5.0 (Windows NT 10.0; Win64; x64) AppleWebKit/537.36 (KHTML, like Gecko) Chrome/124.0.0.0 Safari/537.36\", \"Accept-Encoding\":\"gzip, deflate\", \"Accept\":\"text/html,application/xhtml+xml,application/xml;q=0.9,*/*;q=0.8\", \"DNT\":\"1\",\"Connection\":\"close\", \"Upgrade-Insecure-Requests\":\"1\"}\n",
    "\n",
    "page = requests.get(URL, headers = headers)\n",
    "\n",
    "soup1 = BeautifulSoup(page.content, \"html.parser\")\n",
    "\n",
    "soup2 = BeautifulSoup(soup1.prettify(), \"html.parser\")\n",
    "\n",
    "title = soup2.find(id ='productTitle').get_text()\n",
    "\n",
    "price = soup2.find(\"span\", {\"class\":\"aok-offscreen\"}).text\n",
    "\n",
    "\n",
    "print(title)\n",
    "print(price)\n"
   ]
  },
  {
   "cell_type": "code",
   "execution_count": 28,
   "id": "07669750",
   "metadata": {},
   "outputs": [
    {
     "name": "stdout",
     "output_type": "stream",
     "text": [
      "Retreez Funny Mug - Data Makes Me Happy Data Science Scientist Analyst Computer Accounting 11 Oz Ceramic Coffee Mugs - Funny Sarcasm Inspirational birthday gifts for friend coworker colleague him her\n",
      "150.00\n"
     ]
    }
   ],
   "source": [
    "#cleaning it up a bit\n",
    "price= price.strip()[4:]\n",
    "title= title.strip()\n",
    "\n",
    "print(title)\n",
    "print(price)"
   ]
  },
  {
   "cell_type": "code",
   "execution_count": 20,
   "id": "5ddbc193",
   "metadata": {},
   "outputs": [
    {
     "name": "stdout",
     "output_type": "stream",
     "text": [
      "2024-05-07\n"
     ]
    }
   ],
   "source": [
    "today = datetime.date.today()\n",
    "\n",
    "print(today)"
   ]
  },
  {
   "cell_type": "code",
   "execution_count": 21,
   "id": "27f09e01",
   "metadata": {},
   "outputs": [],
   "source": [
    "header = ['Title', 'Price', 'Date']\n",
    "data = [title, price, today]\n",
    "\n",
    "with open('AmazonWebScrapingDataset.csv', 'w', newline='', encoding='UTF8') as f:\n",
    "    writer = csv.writer(f)\n",
    "    writer.writerow(header)\n",
    "    writer.writerow(data)\n",
    "    \n",
    "    "
   ]
  },
  {
   "cell_type": "code",
   "execution_count": 47,
   "id": "852c1dbb",
   "metadata": {},
   "outputs": [
    {
     "name": "stdout",
     "output_type": "stream",
     "text": [
      "                                               Title  Price        Date\n",
      "0  Retreez Funny Mug - Data Makes Me Happy Data S...  150.0  2024-05-07\n",
      "1  Retreez Funny Mug - Data Makes Me Happy Data S...  150.0  2024-05-07\n",
      "2  Retreez Funny Mug - Data Makes Me Happy Data S...  150.0  2024-05-07\n",
      "3  Retreez Funny Mug - Data Makes Me Happy Data S...  150.0  2024-05-07\n"
     ]
    }
   ],
   "source": [
    "df = pd.read_csv(r'C:\\Users\\YABANDA\\AmazonWebScrapingDataset.csv')\n",
    "\n",
    "print(df)"
   ]
  },
  {
   "cell_type": "code",
   "execution_count": 23,
   "id": "08eca969",
   "metadata": {},
   "outputs": [],
   "source": [
    "#appending data to the CSV file\n",
    "with open('AmazonWebScrapingDataset.csv', 'a+', newline='', encoding='UTF8') as f:\n",
    "    writer = csv.writer(f)\n",
    "    writer.writerow(data)\n",
    "    "
   ]
  },
  {
   "cell_type": "code",
   "execution_count": 33,
   "id": "fb33ac72",
   "metadata": {},
   "outputs": [],
   "source": [
    "def check_price():\n",
    "    URL = 'https://www.amazon.eg/-/en/Retreez-Funny-Mug-Accounting-Inspirational/dp/B0BHCNBD76/ref=sr_1_5?crid=LYBAIX7YUTXJ&dib=eyJ2IjoiMSJ9.QFJSTEaLMPF3YwwMy6v6IMFVhYFn6dFv9dahn6uOb80reJbxa5IBAUVO6xjTePT9P63zT6mqbQkriFvyRIRRVTbKblFJG8Kcr7rGQAGgFxwPSJwFuu5PTkOb3ALrh2rLoiVkfyDypOHw_6B-Lq_SgBHEr9jYZSWd__dZxM8_x_NP57L1lTCprhGp-HhNl09p.uIv91uAMNwN3kGqU1VqlEZolIwFc4M0QYTJNFe3d4YM&dib_tag=se&keywords=data+analyst&qid=1714974212&sprefix=data+analys%2Caps%2C106&sr=8-5'\n",
    "\n",
    "    headers = {\"User-Agent\": \"Mozilla/5.0 (Windows NT 10.0; Win64; x64) AppleWebKit/537.36 (KHTML, like Gecko) Chrome/124.0.0.0 Safari/537.36\", \"Accept-Encoding\":\"gzip, deflate\", \"Accept\":\"text/html,application/xhtml+xml,application/xml;q=0.9,*/*;q=0.8\", \"DNT\":\"1\",\"Connection\":\"close\", \"Upgrade-Insecure-Requests\":\"1\"}\n",
    "\n",
    "    page = requests.get(URL, headers = headers)\n",
    "\n",
    "    soup1 = BeautifulSoup(page.content, \"html.parser\")\n",
    "\n",
    "    soup2 = BeautifulSoup(soup1.prettify(), \"html.parser\")\n",
    "\n",
    "    title = soup2.find(id ='productTitle').get_text()\n",
    "\n",
    "    price = soup2.find(\"span\", {\"class\":\"aok-offscreen\"}).text\n",
    "\n",
    "    price= price.strip()[4:]\n",
    "    \n",
    "    title= title.strip()\n",
    "    \n",
    "    today = datetime.date.today()\n",
    "    \n",
    "    header = ['Title', 'Price', 'Date']\n",
    "    \n",
    "    data = [title, price, today]\n",
    "\n",
    "    with open('AmazonWebScrapingDataset.csv', 'a+', newline='', encoding='UTF8') as f:\n",
    "        writer = csv.writer(f)\n",
    "        writer.writerow(data)\n",
    "   \n",
    "    if(price <100):\n",
    "        send_mail()\n",
    "    "
   ]
  },
  {
   "cell_type": "code",
   "execution_count": 51,
   "id": "68ca23f7",
   "metadata": {},
   "outputs": [
    {
     "ename": "KeyboardInterrupt",
     "evalue": "",
     "output_type": "error",
     "traceback": [
      "\u001b[1;31m---------------------------------------------------------------------------\u001b[0m",
      "\u001b[1;31mKeyboardInterrupt\u001b[0m                         Traceback (most recent call last)",
      "\u001b[1;32m~\\AppData\\Local\\Temp\\ipykernel_44380\\4212351095.py\u001b[0m in \u001b[0;36m<module>\u001b[1;34m\u001b[0m\n\u001b[0;32m      1\u001b[0m \u001b[1;32mwhile\u001b[0m\u001b[1;33m(\u001b[0m\u001b[1;32mTrue\u001b[0m\u001b[1;33m)\u001b[0m\u001b[1;33m:\u001b[0m\u001b[1;33m\u001b[0m\u001b[1;33m\u001b[0m\u001b[0m\n\u001b[0;32m      2\u001b[0m     \u001b[0mcheck_price\u001b[0m\u001b[1;33m(\u001b[0m\u001b[1;33m)\u001b[0m\u001b[1;33m\u001b[0m\u001b[1;33m\u001b[0m\u001b[0m\n\u001b[1;32m----> 3\u001b[1;33m     \u001b[0mtime\u001b[0m\u001b[1;33m.\u001b[0m\u001b[0msleep\u001b[0m\u001b[1;33m(\u001b[0m\u001b[1;36m5\u001b[0m\u001b[1;33m)\u001b[0m\u001b[1;33m\u001b[0m\u001b[1;33m\u001b[0m\u001b[0m\n\u001b[0m",
      "\u001b[1;31mKeyboardInterrupt\u001b[0m: "
     ]
    }
   ],
   "source": [
    "#run it everyday just to check if price has changed\n",
    "while(True):\n",
    "    check_price()\n",
    "    time.sleep(86400)"
   ]
  },
  {
   "cell_type": "code",
   "execution_count": 53,
   "id": "67912847",
   "metadata": {},
   "outputs": [
    {
     "data": {
      "text/html": [
       "<div>\n",
       "<style scoped>\n",
       "    .dataframe tbody tr th:only-of-type {\n",
       "        vertical-align: middle;\n",
       "    }\n",
       "\n",
       "    .dataframe tbody tr th {\n",
       "        vertical-align: top;\n",
       "    }\n",
       "\n",
       "    .dataframe thead th {\n",
       "        text-align: right;\n",
       "    }\n",
       "</style>\n",
       "<table border=\"1\" class=\"dataframe\">\n",
       "  <thead>\n",
       "    <tr style=\"text-align: right;\">\n",
       "      <th></th>\n",
       "      <th>Title</th>\n",
       "      <th>Price</th>\n",
       "      <th>Date</th>\n",
       "    </tr>\n",
       "  </thead>\n",
       "  <tbody>\n",
       "    <tr>\n",
       "      <th>0</th>\n",
       "      <td>Retreez Funny Mug - Data Makes Me Happy Data S...</td>\n",
       "      <td>150.0</td>\n",
       "      <td>2024-05-07</td>\n",
       "    </tr>\n",
       "    <tr>\n",
       "      <th>1</th>\n",
       "      <td>Retreez Funny Mug - Data Makes Me Happy Data S...</td>\n",
       "      <td>150.0</td>\n",
       "      <td>2024-05-07</td>\n",
       "    </tr>\n",
       "    <tr>\n",
       "      <th>2</th>\n",
       "      <td>Retreez Funny Mug - Data Makes Me Happy Data S...</td>\n",
       "      <td>150.0</td>\n",
       "      <td>2024-05-07</td>\n",
       "    </tr>\n",
       "    <tr>\n",
       "      <th>3</th>\n",
       "      <td>Retreez Funny Mug - Data Makes Me Happy Data S...</td>\n",
       "      <td>150.0</td>\n",
       "      <td>2024-05-07</td>\n",
       "    </tr>\n",
       "    <tr>\n",
       "      <th>4</th>\n",
       "      <td>Retreez Funny Mug - Data Makes Me Happy Data S...</td>\n",
       "      <td>150.0</td>\n",
       "      <td>2024-05-07</td>\n",
       "    </tr>\n",
       "    <tr>\n",
       "      <th>5</th>\n",
       "      <td>Retreez Funny Mug - Data Makes Me Happy Data S...</td>\n",
       "      <td>150.0</td>\n",
       "      <td>2024-05-07</td>\n",
       "    </tr>\n",
       "    <tr>\n",
       "      <th>6</th>\n",
       "      <td>Retreez Funny Mug - Data Makes Me Happy Data S...</td>\n",
       "      <td>150.0</td>\n",
       "      <td>2024-05-07</td>\n",
       "    </tr>\n",
       "  </tbody>\n",
       "</table>\n",
       "</div>"
      ],
      "text/plain": [
       "                                               Title  Price        Date\n",
       "0  Retreez Funny Mug - Data Makes Me Happy Data S...  150.0  2024-05-07\n",
       "1  Retreez Funny Mug - Data Makes Me Happy Data S...  150.0  2024-05-07\n",
       "2  Retreez Funny Mug - Data Makes Me Happy Data S...  150.0  2024-05-07\n",
       "3  Retreez Funny Mug - Data Makes Me Happy Data S...  150.0  2024-05-07\n",
       "4  Retreez Funny Mug - Data Makes Me Happy Data S...  150.0  2024-05-07\n",
       "5  Retreez Funny Mug - Data Makes Me Happy Data S...  150.0  2024-05-07\n",
       "6  Retreez Funny Mug - Data Makes Me Happy Data S...  150.0  2024-05-07"
      ]
     },
     "execution_count": 53,
     "metadata": {},
     "output_type": "execute_result"
    }
   ],
   "source": [
    "df = pd.read_csv(r'C:\\Users\\YABANDA\\AmazonWebScrapingDataset.csv')\n",
    "\n",
    "df"
   ]
  },
  {
   "cell_type": "code",
   "execution_count": 44,
   "id": "f72486db",
   "metadata": {},
   "outputs": [],
   "source": [
    "#send mail to myself when its time to buy the discounted item\n",
    "def send_mail():\n",
    "    server = smtplib.SMTP_SSL('smtp.gmail.com', 465)\n",
    "    server.ehlo()\n",
    "    #server.starttls()\n",
    "    server.login('ahmedmelgo@gmail.com','xxxxxxxxxxxxxxxx')\n",
    "    \n",
    "    subject = \"The cup you wanted is below 100EGP! It's Time!\"\n",
    "    body = \"go get it tiger!\"\n",
    "    \n",
    "    msg = f\"Subject: {subject}\\n\\n{body}\"\n",
    "    \n",
    "    server.sendmail('ahmedmelgo@gmail.com', msg)\n",
    "    "
   ]
  },
  {
   "cell_type": "code",
   "execution_count": null,
   "id": "a3dcf041",
   "metadata": {},
   "outputs": [],
   "source": []
  }
 ],
 "metadata": {
  "kernelspec": {
   "display_name": "Python 3 (ipykernel)",
   "language": "python",
   "name": "python3"
  },
  "language_info": {
   "codemirror_mode": {
    "name": "ipython",
    "version": 3
   },
   "file_extension": ".py",
   "mimetype": "text/x-python",
   "name": "python",
   "nbconvert_exporter": "python",
   "pygments_lexer": "ipython3",
   "version": "3.9.13"
  }
 },
 "nbformat": 4,
 "nbformat_minor": 5
}
